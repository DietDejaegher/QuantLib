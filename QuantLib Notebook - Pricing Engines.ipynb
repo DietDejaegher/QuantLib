{
 "cells": [
  {
   "cell_type": "code",
   "execution_count": 2,
   "metadata": {},
   "outputs": [
    {
     "name": "stdout",
     "output_type": "stream",
     "text": [
      "Collecting QuantLibNote: you may need to restart the kernel to use updated packages.\n",
      "\n",
      "  Obtaining dependency information for QuantLib from https://files.pythonhosted.org/packages/eb/96/58ad2e21aab7409fca35cbf9d100bd1a9a02a329589e173462884be5ae58/QuantLib-1.35-cp38-abi3-win_amd64.whl.metadata\n",
      "  Downloading QuantLib-1.35-cp38-abi3-win_amd64.whl.metadata (1.1 kB)\n",
      "Downloading QuantLib-1.35-cp38-abi3-win_amd64.whl (12.5 MB)\n",
      "   ---------------------------------------- 0.0/12.5 MB ? eta -:--:--\n",
      "   --- ------------------------------------ 1.0/12.5 MB 32.3 MB/s eta 0:00:01\n",
      "   --- ------------------------------------ 1.0/12.5 MB 32.3 MB/s eta 0:00:01\n",
      "   ------ --------------------------------- 2.0/12.5 MB 16.3 MB/s eta 0:00:01\n",
      "   ------ --------------------------------- 2.1/12.5 MB 16.6 MB/s eta 0:00:01\n",
      "   ---------- ----------------------------- 3.1/12.5 MB 15.4 MB/s eta 0:00:01\n",
      "   ---------- ----------------------------- 3.1/12.5 MB 15.4 MB/s eta 0:00:01\n",
      "   ---------- ----------------------------- 3.1/12.5 MB 15.4 MB/s eta 0:00:01\n",
      "   ---------- ----------------------------- 3.1/12.5 MB 15.4 MB/s eta 0:00:01\n",
      "   ------------- -------------------------- 4.2/12.5 MB 10.7 MB/s eta 0:00:01\n",
      "   ------------- -------------------------- 4.2/12.5 MB 10.7 MB/s eta 0:00:01\n",
      "   ---------------- ----------------------- 5.2/12.5 MB 10.8 MB/s eta 0:00:01\n",
      "   ---------------- ----------------------- 5.2/12.5 MB 10.8 MB/s eta 0:00:01\n",
      "   ----------------- ---------------------- 5.4/12.5 MB 9.1 MB/s eta 0:00:01\n",
      "   -------------------- ------------------- 6.3/12.5 MB 10.3 MB/s eta 0:00:01\n",
      "   ---------------------- ----------------- 7.1/12.5 MB 10.3 MB/s eta 0:00:01\n",
      "   ----------------------- ---------------- 7.3/12.5 MB 10.6 MB/s eta 0:00:01\n",
      "   ----------------------- ---------------- 7.3/12.5 MB 10.6 MB/s eta 0:00:01\n",
      "   -------------------------- ------------- 8.4/12.5 MB 10.3 MB/s eta 0:00:01\n",
      "   --------------------------- ------------ 8.6/12.5 MB 10.0 MB/s eta 0:00:01\n",
      "   ------------------------------ --------- 9.4/12.5 MB 10.6 MB/s eta 0:00:01\n",
      "   ------------------------------ --------- 9.4/12.5 MB 10.6 MB/s eta 0:00:01\n",
      "   --------------------------------- ------ 10.5/12.5 MB 10.2 MB/s eta 0:00:01\n",
      "   --------------------------------- ------ 10.5/12.5 MB 10.2 MB/s eta 0:00:01\n",
      "   ------------------------------------- -- 11.7/12.5 MB 10.4 MB/s eta 0:00:01\n",
      "   ---------------------------------------  12.5/12.5 MB 10.9 MB/s eta 0:00:01\n",
      "   ---------------------------------------- 12.5/12.5 MB 10.2 MB/s eta 0:00:00\n",
      "Installing collected packages: QuantLib\n",
      "Successfully installed QuantLib-1.35\n"
     ]
    }
   ],
   "source": [
    "pip install QuantLib"
   ]
  },
  {
   "cell_type": "code",
   "execution_count": 3,
   "metadata": {},
   "outputs": [],
   "source": [
    "from QuantLib import *"
   ]
  },
  {
   "cell_type": "code",
   "execution_count": 4,
   "metadata": {},
   "outputs": [],
   "source": [
    "today = Date(9, November, 2022)\n",
    "Settings.instance().evaluationDate = today"
   ]
  },
  {
   "cell_type": "code",
   "execution_count": 5,
   "metadata": {},
   "outputs": [],
   "source": [
    "strike = 100\n",
    "maturity = Date(9, March, 2023)\n",
    "option = EuropeanOption(PlainVanillaPayoff(Option.Call, strike),\n",
    "                       EuropeanExercise(maturity))"
   ]
  },
  {
   "cell_type": "code",
   "execution_count": 6,
   "metadata": {},
   "outputs": [],
   "source": [
    "#First pricing method: Black Scholes\n",
    "S0 = SimpleQuote(100)\n",
    "r = SimpleQuote(0.01)\n",
    "sigma = SimpleQuote(0.2)"
   ]
  },
  {
   "cell_type": "code",
   "execution_count": 7,
   "metadata": {},
   "outputs": [],
   "source": [
    "riskFreeCurve = FlatForward(0, TARGET(), QuoteHandle(r), Actual360())\n",
    "volatility = BlackConstantVol(0, TARGET(), QuoteHandle(sigma), Actual360())"
   ]
  },
  {
   "cell_type": "code",
   "execution_count": 8,
   "metadata": {},
   "outputs": [],
   "source": [
    "process = BlackScholesProcess(QuoteHandle(S0), \n",
    "                             YieldTermStructureHandle(riskFreeCurve),\n",
    "                             BlackVolTermStructureHandle(volatility))"
   ]
  },
  {
   "cell_type": "code",
   "execution_count": 9,
   "metadata": {},
   "outputs": [],
   "source": [
    "engine = AnalyticEuropeanEngine(process)"
   ]
  },
  {
   "cell_type": "code",
   "execution_count": 10,
   "metadata": {},
   "outputs": [],
   "source": [
    "option.setPricingEngine(engine)"
   ]
  },
  {
   "cell_type": "code",
   "execution_count": 11,
   "metadata": {},
   "outputs": [
    {
     "name": "stdout",
     "output_type": "stream",
     "text": [
      "4.764672202466294\n"
     ]
    }
   ],
   "source": [
    "print(option.NPV())"
   ]
  },
  {
   "cell_type": "code",
   "execution_count": 12,
   "metadata": {},
   "outputs": [
    {
     "name": "stdout",
     "output_type": "stream",
     "text": [
      "0.534506276720217\n",
      "0.034420097263283135\n",
      "22.94673150885543\n"
     ]
    }
   ],
   "source": [
    "print(option.delta())\n",
    "print(option.gamma())\n",
    "print(option.vega())"
   ]
  },
  {
   "cell_type": "code",
   "execution_count": 13,
   "metadata": {},
   "outputs": [
    {
     "name": "stdout",
     "output_type": "stream",
     "text": [
      "7.849230058037261\n"
     ]
    }
   ],
   "source": [
    "#Market Changes\n",
    "S0.setValue(105)\n",
    "print(option.NPV())"
   ]
  },
  {
   "cell_type": "code",
   "execution_count": 14,
   "metadata": {},
   "outputs": [
    {
     "name": "stdout",
     "output_type": "stream",
     "text": [
      "%pylab is deprecated, use %matplotlib inline and import the required libraries.\n",
      "Populating the interactive namespace from numpy and matplotlib\n"
     ]
    }
   ],
   "source": [
    "#Plot NPV vs S0\n",
    "#%%capture\n",
    "%pylab inline --no-import-all\n",
    "import matplotlib.pyplot as plt\n",
    "import numpy as np\n",
    "from IPython.display import display"
   ]
  },
  {
   "cell_type": "code",
   "execution_count": 15,
   "metadata": {},
   "outputs": [
    {
     "data": {
      "image/png": "[encoded data removed]",
      "text/plain": [
       "<Figure size 640x480 with 1 Axes>"
      ]
     },
     "metadata": {},
     "output_type": "display_data"
    }
   ],
   "source": [
    "f, ax = plt.subplots()\n",
    "xs = np.linspace(80,120,400)\n",
    "ys = []\n",
    "for x in xs:\n",
    "    S0.setValue(x)\n",
    "    ys.append(option.NPV())\n",
    "ax.set_title('Option Value')\n",
    "_ = ax.plot(xs,ys)"
   ]
  },
  {
   "cell_type": "code",
   "execution_count": 16,
   "metadata": {},
   "outputs": [
    {
     "name": "stdout",
     "output_type": "stream",
     "text": [
      "7.849230058037261\n"
     ]
    }
   ],
   "source": [
    "#Date Changes\n",
    "S0.setValue(105)\n",
    "print(option.NPV())"
   ]
  },
  {
   "cell_type": "code",
   "execution_count": 17,
   "metadata": {},
   "outputs": [
    {
     "name": "stdout",
     "output_type": "stream",
     "text": [
      "6.510206818761075\n"
     ]
    }
   ],
   "source": [
    "Settings.instance().evaluationDate = Date(9, January, 2023)\n",
    "print(option.NPV())"
   ]
  },
  {
   "cell_type": "code",
   "execution_count": 18,
   "metadata": {},
   "outputs": [
    {
     "data": {
      "image/png": "[encoded data removed]",
      "text/plain": [
       "<Figure size 640x480 with 1 Axes>"
      ]
     },
     "metadata": {},
     "output_type": "display_data"
    }
   ],
   "source": [
    "ys = []\n",
    "for x in xs:\n",
    "    S0.setValue(x)\n",
    "    ys.append(option.NPV())\n",
    "ax.plot(xs, ys)\n",
    "display(f)"
   ]
  },
  {
   "cell_type": "code",
   "execution_count": 19,
   "metadata": {},
   "outputs": [],
   "source": [
    "Settings.instance().EvaluationDate=Date(9, February, 2023)"
   ]
  },
  {
   "cell_type": "code",
   "execution_count": 20,
   "metadata": {},
   "outputs": [],
   "source": [
    "Settings.instance().EvaluationDate=Date(8, March, 2023)"
   ]
  },
  {
   "cell_type": "code",
   "execution_count": 21,
   "metadata": {},
   "outputs": [],
   "source": [
    "#Other pricing methods\n",
    "Settings.instance().evaluationDate=today\n",
    "S0.setValue(105)"
   ]
  },
  {
   "cell_type": "code",
   "execution_count": 22,
   "metadata": {},
   "outputs": [],
   "source": [
    "model = HestonModel(\n",
    "    HestonProcess(YieldTermStructureHandle(riskFreeCurve),\n",
    "                 YieldTermStructureHandle(FlatForward(0, TARGET(),0,Actual360())),\n",
    "                 QuoteHandle(S0),\n",
    "                 0.04,0.1,0.01,0.05,-0.75))"
   ]
  },
  {
   "cell_type": "code",
   "execution_count": 23,
   "metadata": {},
   "outputs": [],
   "source": [
    "engine = AnalyticHestonEngine(model)\n",
    "option.setPricingEngine(engine)"
   ]
  },
  {
   "cell_type": "code",
   "execution_count": 24,
   "metadata": {},
   "outputs": [
    {
     "name": "stdout",
     "output_type": "stream",
     "text": [
      "7.864855245050127\n"
     ]
    }
   ],
   "source": [
    "print(option.NPV())"
   ]
  },
  {
   "cell_type": "code",
   "execution_count": 25,
   "metadata": {},
   "outputs": [],
   "source": [
    "#Lazy Recalculation\n",
    "engine = MCEuropeanEngine(process, \"PseudoRandom\", timeSteps=20,\n",
    "                          requiredSamples=250000)\n",
    "option.setPricingEngine(engine)"
   ]
  },
  {
   "cell_type": "code",
   "execution_count": 26,
   "metadata": {},
   "outputs": [
    {
     "name": "stdout",
     "output_type": "stream",
     "text": [
      "7.851072299339666\n"
     ]
    }
   ],
   "source": [
    "print(option.NPV())"
   ]
  },
  {
   "cell_type": "code",
   "execution_count": 27,
   "metadata": {},
   "outputs": [],
   "source": [
    "S0.setValue(104)"
   ]
  },
  {
   "cell_type": "code",
   "execution_count": 28,
   "metadata": {},
   "outputs": [
    {
     "name": "stdout",
     "output_type": "stream",
     "text": [
      "7.163961703611544\n"
     ]
    }
   ],
   "source": [
    "print(option.NPV())"
   ]
  },
  {
   "cell_type": "code",
   "execution_count": null,
   "metadata": {},
   "outputs": [],
   "source": []
  },
  {
   "cell_type": "code",
   "execution_count": null,
   "metadata": {},
   "outputs": [],
   "source": []
  }
 ],
 "metadata": {
  "kernelspec": {
   "display_name": "Python 3 (ipykernel)",
   "language": "python",
   "name": "python3"
  },
  "language_info": {
   "codemirror_mode": {
    "name": "ipython",
    "version": 3
   },
   "file_extension": ".py",
   "mimetype": "text/x-python",
   "name": "python",
   "nbconvert_exporter": "python",
   "pygments_lexer": "ipython3",
   "version": "3.11.4"
  }
 },
 "nbformat": 4,
 "nbformat_minor": 2
}
