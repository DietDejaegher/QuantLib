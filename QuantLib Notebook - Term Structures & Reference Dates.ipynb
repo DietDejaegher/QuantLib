{
 "cells": [
  {
   "cell_type": "code",
   "execution_count": 12,
   "metadata": {},
   "outputs": [],
   "source": [
    "from QuantLib import *\n",
    "import numpy as np"
   ]
  },
  {
   "cell_type": "code",
   "execution_count": 2,
   "metadata": {},
   "outputs": [],
   "source": [
    "Settings.instance().evaluationDate = Date(10,November,2022)"
   ]
  },
  {
   "cell_type": "code",
   "execution_count": 5,
   "metadata": {},
   "outputs": [],
   "source": [
    "#There are two ways of specifying reference dates for the term structure. The first is by means of an offset from the current\n",
    "#evaulation date\n",
    "helpers = [ SwapRateHelper(QuoteHandle(SimpleQuote(rate/100)),\n",
    "                          Period(*tenor), TARGET(),\n",
    "                          Annual, Unadjusted,\n",
    "                          Actual360(), Euribor6M())\n",
    "          for tenor, rate in [((2, Years),0.201),\n",
    "                             ((3,Years), 0.258),\n",
    "                             ((5,Years), 0.464),\n",
    "                             ((10,Years),1.151),\n",
    "                             ((15, Years), 1.588)]]"
   ]
  },
  {
   "cell_type": "code",
   "execution_count": 20,
   "metadata": {},
   "outputs": [],
   "source": [
    "curve1 = PiecewiseFlatForward(0, TARGET(), helpers, Actual360())"
   ]
  },
  {
   "cell_type": "code",
   "execution_count": 36,
   "metadata": {},
   "outputs": [
    {
     "name": "stdout",
     "output_type": "stream",
     "text": [
      "6 6\n"
     ]
    }
   ],
   "source": [
    "#The second is to specify the reference dates directly\n",
    "dates = [Date(10,11,2022),Date(10,11,2024),Date(10,11,2025),Date(10,11,2027),Date(10,11,2032),Date(16,11,2037)]\n",
    "rates = [0.001977769487959405,0.001977769487959405, 0.003647551770429822, \n",
    "         0.007660760701396155, 0.018414773669626438, 0.025311634328225835]\n",
    "\n",
    "print(len(dates), len(rates))"
   ]
  },
  {
   "cell_type": "code",
   "execution_count": 37,
   "metadata": {},
   "outputs": [],
   "source": [
    "curve2 = ForwardCurve(dates,rates,Actual360())"
   ]
  },
  {
   "cell_type": "code",
   "execution_count": 38,
   "metadata": {},
   "outputs": [
    {
     "name": "stdout",
     "output_type": "stream",
     "text": [
      "November 10th, 2022 to November 16th, 2037\n",
      "November 10th, 2022 to November 16th, 2037\n"
     ]
    }
   ],
   "source": [
    "print(curve1.referenceDate(), 'to', curve1.maxDate())\n",
    "print(curve2.referenceDate(), 'to', curve2.maxDate())"
   ]
  },
  {
   "cell_type": "code",
   "execution_count": 39,
   "metadata": {},
   "outputs": [
    {
     "name": "stdout",
     "output_type": "stream",
     "text": [
      "0.458359 % Actual/360 continuous compounding\n",
      "0.453905 % Actual/360 continuous compounding\n"
     ]
    }
   ],
   "source": [
    "print(curve1.zeroRate(5,Continuous))\n",
    "print(curve2.zeroRate(5, Continuous))"
   ]
  },
  {
   "cell_type": "code",
   "execution_count": 40,
   "metadata": {},
   "outputs": [
    {
     "name": "stdout",
     "output_type": "stream",
     "text": [
      "Populating the interactive namespace from numpy and matplotlib\n"
     ]
    }
   ],
   "source": [
    "%pylab inline --no-import-all\n",
    "import matplotlib.pyplot as plt"
   ]
  },
  {
   "cell_type": "code",
   "execution_count": 42,
   "metadata": {},
   "outputs": [
    {
     "data": {
      "image/png": "[encoded data removed]",
      "text/plain": [
       "<Figure size 432x288 with 1 Axes>"
      ]
     },
     "metadata": {
      "needs_background": "light"
     },
     "output_type": "display_data"
    }
   ],
   "source": [
    "times = np.linspace(0.0,15,400)\n",
    "rates = [curve1.zeroRate(t, Continuous).rate() for t in times]\n",
    "plt.plot(times, rates)\n",
    "pass"
   ]
  },
  {
   "cell_type": "code",
   "execution_count": 43,
   "metadata": {},
   "outputs": [],
   "source": [
    "#What happens if we change the evaluation date\n",
    "Settings.instance().evaluationDate = Date(9, December,2022)"
   ]
  },
  {
   "cell_type": "code",
   "execution_count": 44,
   "metadata": {},
   "outputs": [
    {
     "name": "stdout",
     "output_type": "stream",
     "text": [
      "December 9th, 2022 to December 14th, 2037\n",
      "November 10th, 2022 to November 16th, 2037\n"
     ]
    }
   ],
   "source": [
    "#The range definition has changed for curve1 but not for curve2\n",
    "print(curve1.referenceDate(), 'to', curve1.maxDate())\n",
    "print(curve2.referenceDate(), 'to', curve2.maxDate())"
   ]
  },
  {
   "cell_type": "code",
   "execution_count": 45,
   "metadata": {},
   "outputs": [
    {
     "name": "stdout",
     "output_type": "stream",
     "text": [
      "0.458738 % Actual/360 continuous compounding\n",
      "0.453905 % Actual/360 continuous compounding\n"
     ]
    }
   ],
   "source": [
    "#Ofcourse the rates changed to\n",
    "print(curve1.zeroRate(5,Continuous))\n",
    "print(curve2.zeroRate(5,Continuous))"
   ]
  },
  {
   "cell_type": "code",
   "execution_count": 46,
   "metadata": {},
   "outputs": [],
   "source": [
    "#We can see how two curves behave differently with respect to notifications by making 2 observers\n",
    "def make_observer(i):\n",
    "    def say():\n",
    "        s = \"Observer %d notified\" % i\n",
    "        print('-'*len(s))\n",
    "        print(s)\n",
    "        print('-'*len(s))\n",
    "    return Observer(say)\n",
    "\n",
    "obs1 = make_observer(1)\n",
    "obs2 = make_observer(2)"
   ]
  },
  {
   "cell_type": "code",
   "execution_count": 47,
   "metadata": {},
   "outputs": [],
   "source": [
    "q1 = SimpleQuote(1)\n",
    "obs1.registerWith(q1)\n",
    "\n",
    "q2 = SimpleQuote(2)\n",
    "obs2.registerWith(q2)\n",
    "\n",
    "q3 = SimpleQuote(3)\n",
    "obs1.registerWith(q3)\n",
    "obs2.registerWith(q3)"
   ]
  },
  {
   "cell_type": "code",
   "execution_count": 48,
   "metadata": {},
   "outputs": [
    {
     "name": "stdout",
     "output_type": "stream",
     "text": [
      "-------------------\n",
      "Observer 1 notified\n",
      "-------------------\n"
     ]
    }
   ],
   "source": [
    "q1.setValue(1.5)"
   ]
  },
  {
   "cell_type": "code",
   "execution_count": 49,
   "metadata": {},
   "outputs": [
    {
     "name": "stdout",
     "output_type": "stream",
     "text": [
      "-------------------\n",
      "Observer 2 notified\n",
      "-------------------\n"
     ]
    }
   ],
   "source": [
    "q2.setValue(1.9)"
   ]
  },
  {
   "cell_type": "code",
   "execution_count": 50,
   "metadata": {},
   "outputs": [
    {
     "name": "stdout",
     "output_type": "stream",
     "text": [
      "-------------------\n",
      "Observer 1 notified\n",
      "-------------------\n",
      "-------------------\n",
      "Observer 2 notified\n",
      "-------------------\n"
     ]
    }
   ],
   "source": [
    "q3.setValue(3.1)"
   ]
  },
  {
   "cell_type": "code",
   "execution_count": 51,
   "metadata": {},
   "outputs": [],
   "source": [
    "obs1.registerWith(curve1)\n",
    "obs2.registerWith(curve2)"
   ]
  },
  {
   "cell_type": "code",
   "execution_count": 53,
   "metadata": {},
   "outputs": [
    {
     "name": "stdout",
     "output_type": "stream",
     "text": [
      "-------------------\n",
      "Observer 1 notified\n",
      "-------------------\n"
     ]
    }
   ],
   "source": [
    "Settings.instance().evaluationDate = Date(20, December, 2022)"
   ]
  },
  {
   "cell_type": "code",
   "execution_count": null,
   "metadata": {},
   "outputs": [],
   "source": []
  }
 ],
 "metadata": {
  "kernelspec": {
   "display_name": "Python 3",
   "language": "python",
   "name": "python3"
  },
  "language_info": {
   "codemirror_mode": {
    "name": "ipython",
    "version": 3
   },
   "file_extension": ".py",
   "mimetype": "text/x-python",
   "name": "python",
   "nbconvert_exporter": "python",
   "pygments_lexer": "ipython3",
   "version": "3.7.3"
  }
 },
 "nbformat": 4,
 "nbformat_minor": 2
}
